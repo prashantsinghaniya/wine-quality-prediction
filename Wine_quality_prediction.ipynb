{
  "nbformat": 4,
  "nbformat_minor": 0,
  "metadata": {
    "colab": {
      "provenance": []
    },
    "kernelspec": {
      "name": "python3",
      "display_name": "Python 3"
    },
    "language_info": {
      "name": "python"
    }
  },
  "cells": [
    {
      "cell_type": "code",
      "execution_count": null,
      "metadata": {
        "id": "j8VoOp6Zx54e"
      },
      "outputs": [],
      "source": [
        "import numpy as np\n",
        "import pandas as pd\n",
        "import matplotlib.pyplot as plt\n",
        "import seaborn as sns\n",
        "from sklearn.ensemble import RandomForestClassifier\n",
        "from sklearn.model_selection import train_test_split\n",
        "from sklearn.metrics import accuracy_score"
      ]
    },
    {
      "cell_type": "code",
      "source": [
        "import kagglehub\n",
        "\n",
        "# Download the dataset directory\n",
        "path = kagglehub.dataset_download(\"uciml/red-wine-quality-cortez-et-al-2009\")\n",
        "\n",
        "# Construct the full path to the CSV file\n",
        "csv_path = path + \"/winequality-red.csv\"\n",
        "\n",
        "# Load the dataset\n",
        "wine_data = pd.read_csv(csv_path)\n",
        "\n",
        "print(\"Dataset loaded. Shape:\", wine_data.shape)\n"
      ],
      "metadata": {
        "colab": {
          "base_uri": "https://localhost:8080/"
        },
        "id": "ZRykkJkaiPJ1",
        "outputId": "d49c8948-ed05-40f2-f6a0-036253d1b28f"
      },
      "execution_count": 192,
      "outputs": [
        {
          "metadata": {
            "tags": null
          },
          "name": "stdout",
          "output_type": "stream",
          "text": [
            "Dataset loaded. Shape: (1599, 12)\n"
          ]
        }
      ]
    },
    {
      "cell_type": "code",
      "source": [
        "wine_data.head(5)\n"
      ],
      "metadata": {
        "id": "PL1NQufxyQLc"
      },
      "execution_count": null,
      "outputs": []
    },
    {
      "cell_type": "code",
      "source": [
        "wine_data['quality'].value_counts()"
      ],
      "metadata": {
        "id": "o0ZVAXFUyXjj"
      },
      "execution_count": null,
      "outputs": []
    },
    {
      "cell_type": "code",
      "source": [
        "wine_data.describe()"
      ],
      "metadata": {
        "id": "Y203KzK6y0SP"
      },
      "execution_count": null,
      "outputs": []
    },
    {
      "cell_type": "code",
      "source": [
        "wine_data.isnull().sum()"
      ],
      "metadata": {
        "id": "RaNDCfmIzU63"
      },
      "execution_count": null,
      "outputs": []
    },
    {
      "cell_type": "code",
      "source": [
        "sns.catplot(x='quality', data=wine_data, kind='count')"
      ],
      "metadata": {
        "id": "1yEL6oHyzddG"
      },
      "execution_count": null,
      "outputs": []
    },
    {
      "cell_type": "code",
      "source": [
        "plt.figure(figsize=(10,5))\n",
        "plt.subplot(1,2,1)\n",
        "plt.title(\"quality vs volatile acidity\")\n",
        "sns.barplot(x='quality', y='volatile acidity', data=wine_data)\n",
        "plt.subplot(1,2,2)\n",
        "plt.title(\"quality vs citric acid\")\n",
        "sns.barplot(x='quality', y='citric acid', data=wine_data)\n",
        "plt.show()"
      ],
      "metadata": {
        "id": "IXIGXtuD8mbp"
      },
      "execution_count": null,
      "outputs": []
    },
    {
      "cell_type": "code",
      "source": [
        "correlation = wine_data.corr()"
      ],
      "metadata": {
        "id": "_D94qJwP-2nC"
      },
      "execution_count": null,
      "outputs": []
    },
    {
      "cell_type": "code",
      "source": [
        "sns.heatmap(correlation, cbar = True, square=True, fmt='.1f',annot=True, annot_kws={'size':8}, cmap='Blues')"
      ],
      "metadata": {
        "id": "TuccJG7hDNaJ"
      },
      "execution_count": null,
      "outputs": []
    },
    {
      "cell_type": "code",
      "source": [
        "X = wine_data.drop('quality', axis=1)\n",
        "Y = wine_data['quality'].apply(lambda y_value: 1 if y_value >= 6 else 0 )"
      ],
      "metadata": {
        "id": "Wc5BLIncDsTe"
      },
      "execution_count": null,
      "outputs": []
    },
    {
      "cell_type": "code",
      "source": [
        "x_train, x_test, y_train, y_test = train_test_split(X, Y, test_size=0.2, random_state=143)\n",
        "\n"
      ],
      "metadata": {
        "id": "be_2EvGyGo6a"
      },
      "execution_count": null,
      "outputs": []
    },
    {
      "cell_type": "code",
      "source": [
        "model = RandomForestClassifier()\n",
        "model.fit(x_train, y_train)\n",
        "prediction_train = model.predict(x_train)\n",
        "accuracy_train = accuracy_score(y_train, prediction_train)\n",
        "prediction_test = model.predict(x_test)\n",
        "accuracy_test = accuracy_score(y_test, prediction_test)\n",
        "print('Accuracy score of train data: ', accuracy_train,'\\nAccuracy score of test data: ', accuracy_test)"
      ],
      "metadata": {
        "id": "wbflw7VCGSMc"
      },
      "execution_count": null,
      "outputs": []
    }
  ]
}